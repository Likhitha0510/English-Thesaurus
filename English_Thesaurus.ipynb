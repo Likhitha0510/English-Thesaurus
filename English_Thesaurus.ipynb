{
  "nbformat": 4,
  "nbformat_minor": 0,
  "metadata": {
    "colab": {
      "name": "English_Thesaurus.ipynb",
      "provenance": [],
      "collapsed_sections": [],
      "authorship_tag": "ABX9TyOjeN1eqK1or1xfEIkgnOMs",
      "include_colab_link": true
    },
    "kernelspec": {
      "name": "python3",
      "display_name": "Python 3"
    },
    "language_info": {
      "name": "python"
    }
  },
  "cells": [
    {
      "cell_type": "markdown",
      "metadata": {
        "id": "view-in-github",
        "colab_type": "text"
      },
      "source": [
        "<a href=\"https://colab.research.google.com/github/Likhitha0510/English-Thesaurus/blob/main/English_Thesaurus.ipynb\" target=\"_parent\"><img src=\"https://colab.research.google.com/assets/colab-badge.svg\" alt=\"Open In Colab\"/></a>"
      ]
    },
    {
      "cell_type": "code",
      "metadata": {
        "id": "xx1CU79YFMhQ"
      },
      "source": [
        "# Written by : Likhitha M\n",
        "# Contact : likhilikhi2001@gmail.com\n",
        "# synonym dictionary a reference work for finding synonyms and antonyms"
      ],
      "execution_count": 7,
      "outputs": []
    },
    {
      "cell_type": "code",
      "metadata": {
        "id": "cSyS_umpH14r",
        "colab": {
          "base_uri": "https://localhost:8080/"
        },
        "outputId": "350fea3e-deea-4ed5-fa72-53bfe21db8c4"
      },
      "source": [
        "import json\n",
        "from difflib import get_close_matches\n",
        "data=json.load(open(\"/data.json\"))\n",
        "def translate(word):\n",
        "    word=word.lower()\n",
        "    if word in data:\n",
        "        return data[word]\n",
        "    elif word.title() in data:\n",
        "        return data[word.title()]\n",
        "    elif word.upper() in data:\n",
        "        return data [word.upper()]\n",
        "    elif len(get_close_matches(word,data.keys()))>0:\n",
        "        yn=input(\"Did you mean %s instead?enter Y if yes or N if no   \" %get_close_matches(word,data.keys())[0])\n",
        "        if yn==\"Y\":\n",
        "            return data[get_close_matches(word,data.keys())[0]]\n",
        "        elif yn==\"N\":\n",
        "            return \"The word does not exist.Please double check it\"\n",
        "        else:\n",
        "             print(\"we didn't understand your entry\")\n",
        "    else:\n",
        "        print(\"the word does not exist.Please double check it\")\n",
        "word=input(\"enter word:    \")\n",
        "output=translate(word)\n",
        "if type(output)==list:\n",
        "  for item in output:\n",
        "    print(item)\n",
        "else:\n",
        "    print(output)"
      ],
      "execution_count": 17,
      "outputs": [
        {
          "output_type": "stream",
          "name": "stdout",
          "text": [
            "enter word:    Likhitha\n",
            "Did you mean kith instead?enter Y if yes or N if no   N\n",
            "The word does not exist.Please double check it\n"
          ]
        }
      ]
    }
  ]
}